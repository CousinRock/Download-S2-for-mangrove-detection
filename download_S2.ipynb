{
 "cells": [
  {
   "cell_type": "code",
   "execution_count": 1,
   "metadata": {},
   "outputs": [],
   "source": [
    "import ee\n",
    "import geemap"
   ]
  },
  {
   "cell_type": "code",
   "execution_count": 2,
   "metadata": {},
   "outputs": [
    {
     "data": {
      "text/html": [
       "\n",
       "            <style>\n",
       "                .geemap-dark {\n",
       "                    --jp-widgets-color: white;\n",
       "                    --jp-widgets-label-color: white;\n",
       "                    --jp-ui-font-color1: white;\n",
       "                    --jp-layout-color2: #454545;\n",
       "                    background-color: #383838;\n",
       "                }\n",
       "\n",
       "                .geemap-dark .jupyter-button {\n",
       "                    --jp-layout-color3: #383838;\n",
       "                }\n",
       "\n",
       "                .geemap-colab {\n",
       "                    background-color: var(--colab-primary-surface-color, white);\n",
       "                }\n",
       "\n",
       "                .geemap-colab .jupyter-button {\n",
       "                    --jp-layout-color3: var(--colab-primary-surface-color, white);\n",
       "                }\n",
       "            </style>\n",
       "            "
      ],
      "text/plain": [
       "<IPython.core.display.HTML object>"
      ]
     },
     "metadata": {},
     "output_type": "display_data"
    }
   ],
   "source": [
    "ee.Authenticate()\n",
    "ee.Initialize(project='ee-renjiewu660')"
   ]
  },
  {
   "cell_type": "code",
   "execution_count": null,
   "metadata": {},
   "outputs": [],
   "source": [
    "m = geemap.Map(basemap='SATELLITE')\n",
    "m"
   ]
  },
  {
   "cell_type": "code",
   "execution_count": 4,
   "metadata": {},
   "outputs": [
    {
     "data": {
      "text/html": [
       "\n",
       "            <style>\n",
       "                .geemap-dark {\n",
       "                    --jp-widgets-color: white;\n",
       "                    --jp-widgets-label-color: white;\n",
       "                    --jp-ui-font-color1: white;\n",
       "                    --jp-layout-color2: #454545;\n",
       "                    background-color: #383838;\n",
       "                }\n",
       "\n",
       "                .geemap-dark .jupyter-button {\n",
       "                    --jp-layout-color3: #383838;\n",
       "                }\n",
       "\n",
       "                .geemap-colab {\n",
       "                    background-color: var(--colab-primary-surface-color, white);\n",
       "                }\n",
       "\n",
       "                .geemap-colab .jupyter-button {\n",
       "                    --jp-layout-color3: var(--colab-primary-surface-color, white);\n",
       "                }\n",
       "            </style>\n",
       "            "
      ],
      "text/plain": [
       "<IPython.core.display.HTML object>"
      ]
     },
     "metadata": {},
     "output_type": "display_data"
    },
    {
     "data": {
      "text/plain": [
       "['B2', 'B3', 'B4', 'B8', 'EVI', 'LSWI', 'MVI', 'dem']"
      ]
     },
     "execution_count": 4,
     "metadata": {},
     "output_type": "execute_result"
    }
   ],
   "source": [
    "def mask_s2_clouds(image):\n",
    "  \"\"\"Masks clouds in a Sentinel-2 image using the QA band.\n",
    "\n",
    "  Args:\n",
    "      image (ee.Image): A Sentinel-2 image.\n",
    "\n",
    "  Returns:\n",
    "      ee.Image: A cloud-masked Sentinel-2 image.\n",
    "  \"\"\"\n",
    "  qa = image.select('QA60')\n",
    "\n",
    "  # Bits 10 and 11 are clouds and cirrus, respectively.\n",
    "  cloud_bit_mask = 1 << 10\n",
    "  cirrus_bit_mask = 1 << 11\n",
    "\n",
    "  # Both flags should be set to zero, indicating clear conditions.\n",
    "  mask = (\n",
    "      qa.bitwiseAnd(cloud_bit_mask)\n",
    "      .eq(0)\n",
    "      .And(qa.bitwiseAnd(cirrus_bit_mask).eq(0))\n",
    "  )\n",
    "\n",
    "  return image.updateMask(mask).divide(10000)\n",
    "\n",
    "#MVI\n",
    "def MVI(image):\n",
    "    return image.addBands(image.expression('((nir-green)/(swir-green))/10',\n",
    "    {'nir': image.select('B8'),\n",
    "     'swir': image.select('B11'),\n",
    "     'green': image.select('B3'),\n",
    "    }) \\\n",
    "         .rename(\"MVI\"))\n",
    "\n",
    "# 计算 EVI\n",
    "def EVI(image):\n",
    "    evi = image.expression(\n",
    "        \"2.5 * (B8 - B4) / (B8 + 6 * B4 - 7.5 * B2 + 1)\",\n",
    "        {\n",
    "            \"B8\": image.select(\"B8\"),  # 近红外波段 (NIR)\n",
    "            \"B4\": image.select(\"B4\"),  # 红光波段 (Red)\n",
    "            \"B2\": image.select(\"B2\"),  # 蓝光波段 (Blue)\n",
    "        },\n",
    "    ).rename(\"EVI\")\n",
    "    \n",
    "    return image.addBands(evi)\n",
    "\n",
    "\n",
    "def LSWI(image):\n",
    "    lswi = image.expression(\n",
    "        \"(NIR - SWIR) / (NIR + SWIR)\",\n",
    "        {\n",
    "            \"NIR\": image.select(\"B8\"),  # 近红外波段 (NIR)\n",
    "            \"SWIR\": image.select(\"B11\"),  # 短波红外波段 (SWIR)\n",
    "        },\n",
    "    ).rename(\"LSWI\")\n",
    "    \n",
    "    return image.addBands(lswi)\n",
    "    \n",
    "\n",
    "def select_bands(image):\n",
    "    return image.select(['B2', 'B3', 'B4','B8','EVI','LSWI','MVI'])\n",
    "\n",
    "roi = m.user_roi\n",
    "dataset = (\n",
    "    ee.ImageCollection('COPERNICUS/S2_HARMONIZED')\n",
    "    .filterDate('2021-01-01', '2021-12-31')\n",
    "    # Pre-filter to get less cloudy granules.\n",
    "    .filter(ee.Filter.lt('CLOUDY_PIXEL_PERCENTAGE', 20))\n",
    "    .map(mask_s2_clouds)\n",
    "    .map(EVI)\n",
    "    .map(LSWI)\n",
    "    .map(MVI)\n",
    "    .map(select_bands)\n",
    ")\n",
    "image = dataset.median().clip(roi)\n",
    "image = image.multiply(255).add(0.5).toUint8()\n",
    "\n",
    "# image = image.toFloat()\n",
    "ele_data= ee.Image('MERIT/DEM/v1_0_3')\n",
    "dem = ele_data.select('dem').clip(roi)\n",
    "elevation = dem.add(0.5).toUint8()\n",
    "image = image.addBands(elevation)\n",
    "image.bandNames().getInfo()\n"
   ]
  },
  {
   "cell_type": "code",
   "execution_count": null,
   "metadata": {},
   "outputs": [],
   "source": [
    "m.addLayer(image,{'min':0,'max':100,'bands':['B4','B3','B2']},'image')\n",
    "m"
   ]
  },
  {
   "cell_type": "code",
   "execution_count": null,
   "metadata": {},
   "outputs": [],
   "source": [
    "geemap.download_ee_image(\n",
    "        image,\n",
    "        region=roi,\n",
    "        filename=f'test.tif',\n",
    "        scale=10,\n",
    "        crs=\"EPSG:4326\",\n",
    "        max_tile_size=4,\n",
    "        max_tile_dim=2048\n",
    "    )"
   ]
  },
  {
   "cell_type": "code",
   "execution_count": null,
   "metadata": {},
   "outputs": [],
   "source": []
  }
 ],
 "metadata": {
  "kernelspec": {
   "display_name": "VGEE",
   "language": "python",
   "name": "python3"
  },
  "language_info": {
   "codemirror_mode": {
    "name": "ipython",
    "version": 3
   },
   "file_extension": ".py",
   "mimetype": "text/x-python",
   "name": "python",
   "nbconvert_exporter": "python",
   "pygments_lexer": "ipython3",
   "version": "3.11.11"
  }
 },
 "nbformat": 4,
 "nbformat_minor": 2
}
